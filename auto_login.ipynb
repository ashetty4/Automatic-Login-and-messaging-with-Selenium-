{
 "cells": [
  {
   "cell_type": "code",
   "execution_count": null,
   "metadata": {},
   "outputs": [],
   "source": [
    "from selenium import webdriver\n",
    "from getpass import getpass\n",
    "from time import sleep\n",
    "\n",
    "#webdriver path\n",
    "driver = webdriver.Chrome(\"/Users/akankshashetty/Desktop/WebDriver/chromedriver\")\n",
    "driver.get(\"https://www.facebook.com/\")\n",
    "\n",
    "#find email text box\n",
    "username_textbox = driver.find_element_by_id(\"email\")\n",
    "username_textbox.send_keys('Enter Email Id')\n",
    "\n",
    "#find password text box\n",
    "password_textbox = driver.find_element_by_id(\"pass\")\n",
    "password_textbox.send_keys('Enter password')\n",
    "\n",
    "#login button\n",
    "login_button = driver.find_element_by_id(\"u_0_b\")\n",
    "login_button.submit()\n",
    "\n",
    "#wait in case site is not loaded \n",
    "driver.implicitly_wait(30) \n",
    "\n",
    "#sending message in messenger\n",
    "message = driver.find_element_by_xpath('/html/body/div[1]/div/div/div[1]/div[2]/div[4]/div[1]/div[2]/span/div/div[1]').click()\n",
    "driver.implicitly_wait(10) \n",
    "create_mess =driver.find_element_by_xpath(\"/html/body/div[1]/div/div/div[1]/div[2]/div[4]/div[2]/div/div[1]/div[1]/div[1]/div/div/div/div/div/div/div[1]/div/div[1]/div[1]/div[1]/div[2]/div[3]/span/a\").click()\n",
    "driver.implicitly_wait(5) \n",
    "to =driver.find_element_by_xpath(\"/html/body/div[1]/div/div/div[1]/div[5]/div[1]/div[1]/div[1]/div/div/div[1]/div/div/div/div[2]/div/div[2]/div/div/span/input\")\n",
    "to.send_keys('Neeta Shetty') # I'm sending it to my mother\n",
    "to_mess =driver.find_element_by_xpath('//*[@id=\"100006362256007\"]/div/div[1]/div/div[2]/div/div/span').click()\n",
    "driver.implicitly_wait(5) \n",
    "write=driver.find_element_by_xpath('//*[@id=\"mount_0_0\"]/div/div/div[1]/div[5]/div[1]/div[1]/div[1]/div/div/div[1]/div/div/div/div[3]/div/div[2]/form/div/div[2]/div[2]/div[1]/div/div/div/div/div[2]/div')\n",
    "\n",
    "#send message\n",
    "write.send_keys('Love you mom')\n",
    "\n"
   ]
  },
  {
   "cell_type": "code",
   "execution_count": null,
   "metadata": {},
   "outputs": [],
   "source": []
  }
 ],
 "metadata": {
  "kernelspec": {
   "display_name": "Python 3",
   "language": "python",
   "name": "python3"
  },
  "language_info": {
   "codemirror_mode": {
    "name": "ipython",
    "version": 3
   },
   "file_extension": ".py",
   "mimetype": "text/x-python",
   "name": "python",
   "nbconvert_exporter": "python",
   "pygments_lexer": "ipython3",
   "version": "3.7.4"
  }
 },
 "nbformat": 4,
 "nbformat_minor": 2
}
